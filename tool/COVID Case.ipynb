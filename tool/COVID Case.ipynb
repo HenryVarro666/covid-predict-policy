{
 "cells": [
  {
   "cell_type": "markdown",
   "id": "ad263062",
   "metadata": {},
   "source": [
    "# COVID cases data"
   ]
  },
  {
   "cell_type": "code",
   "execution_count": 1,
   "id": "b74f44a4",
   "metadata": {},
   "outputs": [],
   "source": [
    "import pandas as pd\n",
    "from random import randrange\n",
    "from matplotlib import pyplot as plt\n",
    "plt.rcParams['figure.figsize'] = [18, 10]\n",
    "import math"
   ]
  },
  {
   "cell_type": "code",
   "execution_count": null,
   "id": "10cd8696",
   "metadata": {},
   "outputs": [],
   "source": [
    "# !curl -l https://raw.githubusercontent.com/OxCGRT/covid-policy-tracker/master/data/OxCGRT_withnotes_2021.csv > ../data/covid_case.csv.csv"
   ]
  }
 ],
 "metadata": {
  "kernelspec": {
   "display_name": "Python 3 (ipykernel)",
   "language": "python",
   "name": "python3"
  },
  "language_info": {
   "codemirror_mode": {
    "name": "ipython",
    "version": 3
   },
   "file_extension": ".py",
   "mimetype": "text/x-python",
   "name": "python",
   "nbconvert_exporter": "python",
   "pygments_lexer": "ipython3",
   "version": "3.8.13"
  }
 },
 "nbformat": 4,
 "nbformat_minor": 5
}
