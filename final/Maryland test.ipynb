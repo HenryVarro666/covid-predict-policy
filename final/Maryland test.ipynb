{
 "cells": [
  {
   "cell_type": "code",
   "execution_count": null,
   "id": "da711019",
   "metadata": {},
   "outputs": [],
   "source": [
    "import pandas as pd\n",
    "import matplotlib \n",
    "from matplotlib import pyplot as plt"
   ]
  },
  {
   "cell_type": "code",
   "execution_count": null,
   "id": "113eb11b",
   "metadata": {},
   "outputs": [],
   "source": [
    "# Upload Any policy Data\n",
    "\n",
    "polData1 = pd.read_csv('./2022_policy/USA_policy_2022.csv',parse_dates=['Date'])\n",
    "polData2 = pd.read_csv('./2021_policy/USA_policy_2021.csv',parse_dates=['Date'])\n",
    "polData3 = pd.read_csv('./2020_policy/USA_policy_2020.csv',parse_dates=['Date'])\n",
    "\n",
    "\n",
    "polData = pd.concat([polData1,polData2,polData3])\n",
    "polData = polData.reset_index()\n",
    "\n",
    "# Only Consider State Policies \n",
    "polData = polData[polData['Jurisdiction']=='STATE_TOTAL']"
   ]
  },
  {
   "cell_type": "code",
   "execution_count": null,
   "id": "47efef20",
   "metadata": {},
   "outputs": [],
   "source": [
    "polData.columns"
   ]
  },
  {
   "cell_type": "code",
   "execution_count": null,
   "id": "c877f199",
   "metadata": {},
   "outputs": [],
   "source": [
    "# Pick Columns of Policy Interested \n",
    "polColumns = [\n",
    "    'C1_School closing',\n",
    "    'C6_Stay at home requirements',\n",
    "    'C2_Workplace closing',\n",
    "    'C7_Restrictions on internal movement',\n",
    "    'C3_Cancel public events',\n",
    "    'C4_Restrictions on gatherings',\n",
    "    'C5_Close public transport',\n",
    "    'H2_Testing policy'\n",
    "]"
   ]
  },
  {
   "cell_type": "code",
   "execution_count": null,
   "id": "24969cdf",
   "metadata": {},
   "outputs": [],
   "source": [
    "# State Policies\n",
    "polData = polData[polColumns+['Date']]"
   ]
  },
  {
   "cell_type": "code",
   "execution_count": null,
   "id": "e6c9d623",
   "metadata": {},
   "outputs": [],
   "source": [
    "polData = polData.sort_values(by=['Date'])"
   ]
  },
  {
   "cell_type": "code",
   "execution_count": null,
   "id": "0105e0c2",
   "metadata": {},
   "outputs": [],
   "source": [
    "for policyName  in polColumns:\n",
    "    polData['diff_'+policyName] = polData.loc[:,policyName].rolling(window=2).apply(lambda x: x.iloc[1] - x.iloc[0])"
   ]
  },
  {
   "cell_type": "code",
   "execution_count": null,
   "id": "d794e0ca",
   "metadata": {},
   "outputs": [],
   "source": [
    "polData"
   ]
  },
  {
   "cell_type": "code",
   "execution_count": null,
   "id": "02e3cdac",
   "metadata": {},
   "outputs": [],
   "source": [
    "DATELIST = []\n",
    "\n",
    "for policyName  in polColumns:\n",
    "    diffColumn = 'diff_'+policyName\n",
    "    \n",
    "    dates_of_change = polData.dropna()[polData[diffColumn]!=0]['Date'].to_list()\n",
    "    values_of_change = polData.dropna()[polData[diffColumn]!=0][diffColumn].to_list()\n",
    "    DATELIST.append({\n",
    "        'policy_name' : policyName,\n",
    "        'dates_of_change':dates_of_change,\n",
    "        'value' : values_of_change\n",
    "    })\n",
    "    "
   ]
  },
  {
   "cell_type": "code",
   "execution_count": null,
   "id": "2ad0da68",
   "metadata": {},
   "outputs": [],
   "source": [
    "DATELIST"
   ]
  },
  {
   "cell_type": "code",
   "execution_count": null,
   "id": "a1880ec5",
   "metadata": {},
   "outputs": [],
   "source": []
  },
  {
   "cell_type": "markdown",
   "id": "e446027b",
   "metadata": {},
   "source": [
    "## 2.0 Exploring Case Data "
   ]
  },
  {
   "cell_type": "code",
   "execution_count": null,
   "id": "6f5fa5ef",
   "metadata": {},
   "outputs": [],
   "source": [
    "# Case Data Processing \n",
    "dfC = pd.read_csv('./db.csv',parse_dates=['submission_date'])\n",
    "dfC = dfC.sort_values(by='submission_date',ascending=True)\n",
    "dfC"
   ]
  },
  {
   "cell_type": "markdown",
   "id": "8c3b8d36",
   "metadata": {},
   "source": [
    "Lack of Maryland cases"
   ]
  },
  {
   "cell_type": "code",
   "execution_count": null,
   "id": "b9822356",
   "metadata": {},
   "outputs": [],
   "source": []
  },
  {
   "cell_type": "code",
   "execution_count": null,
   "id": "0ef39092",
   "metadata": {},
   "outputs": [],
   "source": []
  },
  {
   "cell_type": "code",
   "execution_count": null,
   "id": "4ddbb132",
   "metadata": {},
   "outputs": [],
   "source": []
  }
 ],
 "metadata": {
  "kernelspec": {
   "display_name": "Python 3 (ipykernel)",
   "language": "python",
   "name": "python3"
  },
  "language_info": {
   "codemirror_mode": {
    "name": "ipython",
    "version": 3
   },
   "file_extension": ".py",
   "mimetype": "text/x-python",
   "name": "python",
   "nbconvert_exporter": "python",
   "pygments_lexer": "ipython3",
   "version": "3.10.4"
  }
 },
 "nbformat": 4,
 "nbformat_minor": 5
}
