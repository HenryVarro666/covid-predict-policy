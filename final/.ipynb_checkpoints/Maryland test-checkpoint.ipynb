{
 "cells": [
  {
   "cell_type": "code",
   "execution_count": null,
   "id": "984ed5bf",
   "metadata": {},
   "outputs": [],
   "source": [
    "import pandas as pd\n",
    "import matplotlib \n",
    "from matplotlib import pyplot as plt"
   ]
  },
  {
   "cell_type": "code",
   "execution_count": null,
   "id": "dc049800",
   "metadata": {},
   "outputs": [],
   "source": [
    "# Upload Any policy Data\n",
    "\n",
    "polData1 = pd.read_csv('./2022_policy/USA_policy_2022.csv',parse_dates=['Date'])\n",
    "polData2 = pd.read_csv('./2021_policy/USA_policy_2021.csv',parse_dates=['Date'])\n",
    "polData3 = pd.read_csv('./2020_policy/USA_policy_2020.csv',parse_dates=['Date'])\n",
    "\n",
    "\n",
    "polData = pd.concat([polData1,polData2,polData3])\n",
    "polData = polData.reset_index()\n",
    "\n",
    "# Only Consider State Policies \n",
    "polData = polData[polData['Jurisdiction']=='STATE_TOTAL']"
   ]
  },
  {
   "cell_type": "code",
   "execution_count": null,
   "id": "a9bb4372",
   "metadata": {},
   "outputs": [],
   "source": [
    "polData.columns"
   ]
  },
  {
   "cell_type": "code",
   "execution_count": null,
   "id": "81bbe9cb",
   "metadata": {},
   "outputs": [],
   "source": [
    "# Pick Columns of Policy Interested \n",
    "polColumns = [\n",
    "    'C1_School closing',\n",
    "    'C6_Stay at home requirements',\n",
    "    'C2_Workplace closing',\n",
    "    'C7_Restrictions on internal movement',\n",
    "    'C3_Cancel public events',\n",
    "    'C4_Restrictions on gatherings',\n",
    "    'C5_Close public transport',\n",
    "    'H2_Testing policy'\n",
    "]"
   ]
  },
  {
   "cell_type": "code",
   "execution_count": null,
   "id": "3e14d9b7",
   "metadata": {},
   "outputs": [],
   "source": [
    "# State Policies\n",
    "polData = polData[polColumns+['Date']]"
   ]
  },
  {
   "cell_type": "code",
   "execution_count": null,
   "id": "6f37b12e",
   "metadata": {},
   "outputs": [],
   "source": [
    "polData = polData.sort_values(by=['Date'])"
   ]
  },
  {
   "cell_type": "code",
   "execution_count": null,
   "id": "c6a3fbb0",
   "metadata": {},
   "outputs": [],
   "source": [
    "for policyName  in polColumns:\n",
    "    polData['diff_'+policyName] = polData.loc[:,policyName].rolling(window=2).apply(lambda x: x.iloc[1] - x.iloc[0])"
   ]
  },
  {
   "cell_type": "code",
   "execution_count": null,
   "id": "b178b01f",
   "metadata": {},
   "outputs": [],
   "source": [
    "polData"
   ]
  },
  {
   "cell_type": "code",
   "execution_count": null,
   "id": "ab8b6831",
   "metadata": {},
   "outputs": [],
   "source": [
    "DATELIST = []\n",
    "\n",
    "for policyName  in polColumns:\n",
    "    diffColumn = 'diff_'+policyName\n",
    "    \n",
    "    dates_of_change = polData.dropna()[polData[diffColumn]!=0]['Date'].to_list()\n",
    "    values_of_change = polData.dropna()[polData[diffColumn]!=0][diffColumn].to_list()\n",
    "    DATELIST.append({\n",
    "        'policy_name' : policyName,\n",
    "        'dates_of_change':dates_of_change,\n",
    "        'value' : values_of_change\n",
    "    })\n",
    "    "
   ]
  },
  {
   "cell_type": "code",
   "execution_count": null,
   "id": "0953269a",
   "metadata": {},
   "outputs": [],
   "source": [
    "DATELIST"
   ]
  },
  {
   "cell_type": "code",
   "execution_count": null,
   "id": "9830e6fc",
   "metadata": {},
   "outputs": [],
   "source": []
  },
  {
   "cell_type": "markdown",
   "id": "8070fe26",
   "metadata": {},
   "source": [
    "## 2.0 Exploring Case Data "
   ]
  },
  {
   "cell_type": "code",
   "execution_count": null,
   "id": "f4e8b5f6",
   "metadata": {},
   "outputs": [],
   "source": [
    "# Case Data Processing \n",
    "dfC = pd.read_csv('./db.csv',parse_dates=['submission_date'])\n",
    "dfC = dfC.sort_values(by='submission_date',ascending=True)\n",
    "dfC"
   ]
  },
  {
   "cell_type": "markdown",
   "id": "55a98bb3",
   "metadata": {},
   "source": [
    "Lack of Maryland cases"
   ]
  },
  {
   "cell_type": "code",
   "execution_count": null,
   "id": "23730e2c",
   "metadata": {},
   "outputs": [],
   "source": []
  },
  {
   "cell_type": "code",
   "execution_count": null,
   "id": "323eda9a",
   "metadata": {},
   "outputs": [],
   "source": []
  },
  {
   "cell_type": "code",
   "execution_count": null,
   "id": "73d5d1e9",
   "metadata": {},
   "outputs": [],
   "source": []
  }
 ],
 "metadata": {
  "kernelspec": {
   "display_name": "Python 3 (ipykernel)",
   "language": "python",
   "name": "python3"
  },
  "language_info": {
   "codemirror_mode": {
    "name": "ipython",
    "version": 3
   },
   "file_extension": ".py",
   "mimetype": "text/x-python",
   "name": "python",
   "nbconvert_exporter": "python",
   "pygments_lexer": "ipython3",
   "version": "3.10.4"
  }
 },
 "nbformat": 4,
 "nbformat_minor": 5
}
